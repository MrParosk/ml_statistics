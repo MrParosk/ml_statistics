{
 "cells": [
  {
   "cell_type": "markdown",
   "metadata": {},
   "source": [
    "# Kullback–Leibler divergence"
   ]
  },
  {
   "cell_type": "markdown",
   "metadata": {},
   "source": [
    "KL-divergence is a measure of \"closeness\" between two distributions. It's defined as:\n",
    "\n",
    "$$\\text{KL}(q || p) = E_{q} [log \\frac{q(x)}{p(x)}] $$\n",
    "\n",
    "If $p$ and $q$ are continuous then:\n",
    "\n",
    "$$\\text{KL}(q || p) = \\int_{-\\infty}^{\\infty} q(x) \\frac{q(x)}{p(x)} dx $$"
   ]
  },
  {
   "cell_type": "markdown",
   "metadata": {},
   "source": [
    "# Characteristics of KL-divergence\n",
    "\n",
    "- $\\text{KL} \\geq 0$\n",
    "- if KL = 0 then the two distributions are equal\n",
    "- It's not symmetric, i.e. $\\text{KL}(q || p) \\neq \\text{KL}(p || q)$"
   ]
  }
 ],
 "metadata": {
  "kernelspec": {
   "display_name": "Python 3",
   "language": "python",
   "name": "python3"
  },
  "language_info": {
   "codemirror_mode": {
    "name": "ipython",
    "version": 3
   },
   "file_extension": ".py",
   "mimetype": "text/x-python",
   "name": "python",
   "nbconvert_exporter": "python",
   "pygments_lexer": "ipython3",
   "version": "3.6.4"
  }
 },
 "nbformat": 4,
 "nbformat_minor": 2
}
