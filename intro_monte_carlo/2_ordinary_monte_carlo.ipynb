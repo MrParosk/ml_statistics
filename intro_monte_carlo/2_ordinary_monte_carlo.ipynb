{
 "cells": [
  {
   "cell_type": "markdown",
   "metadata": {},
   "source": [
    "# Ordinary Monte Carlo simulation"
   ]
  },
  {
   "cell_type": "code",
   "execution_count": 1,
   "metadata": {},
   "outputs": [],
   "source": [
    "import numpy as np"
   ]
  },
  {
   "cell_type": "markdown",
   "metadata": {},
   "source": [
    "In ordinary Monte Carlo simulation we have a model we want to simulate knowing the distributions of the random variables.\n",
    "\n",
    "For example, we can do Monte Carlo simulation for integration. While other algorithms usually evaluate the integrand at a regular grid, Monte Carlo randomly choose points at which the integrand is evaluated.\n",
    "\n",
    "A common example of Monte Carlo application is to evaluate expectations, i.e. $E[f(X)]$. This can be approximated by:\n",
    "\n",
    "$$E[f(X)] \\approx \\frac{1}{n} \\sum_{i=1}^n f(x_i)$$\n",
    "\n",
    "Below is an example where we want to compute $E[X^4]$ where $X \\sim N(0,1)$:"
   ]
  },
  {
   "cell_type": "code",
   "execution_count": 2,
   "metadata": {},
   "outputs": [
    {
     "name": "stdout",
     "output_type": "stream",
     "text": [
      "2.9940580798467247\n"
     ]
    }
   ],
   "source": [
    "# Number of points to sample\n",
    "size = 100000\n",
    "\n",
    "x = np.random.normal(0, 1, size)\n",
    "E = np.mean(np.power(x,4))\n",
    "\n",
    "# True value is 3\n",
    "print(E)"
   ]
  },
  {
   "cell_type": "markdown",
   "metadata": {},
   "source": [
    "# Why it works\n",
    "\n",
    "Monte carlo works due the (strong) law of large numbers, i.e. the average of the results obtained from a large number of trials should be close to the expected value, and will tend to become closer as more trials are performed.\n",
    "\n",
    "Also, with the central limit theorem, we can compute conﬁdence intervals for the approximate values obtained with Monte Carlo. "
   ]
  },
  {
   "cell_type": "markdown",
   "metadata": {},
   "source": [
    "# Summary\n",
    "\n",
    "- Ordinary Monte Carlo can be used to compute many complex integrals, provided the function is known. Expectation and probability on intervals are special cases (integrals).\n",
    "\n",
    "- Strong law of large numbers guarantees the convergence while the central limit theorem provides conﬁdence intervals.\n",
    "\n",
    "- However, the underlying distribution is not always known. But we can use Markov Chain Monte Carlo (MCMC) simulation for that."
   ]
  }
 ],
 "metadata": {
  "kernelspec": {
   "display_name": "Python 3",
   "language": "python",
   "name": "python3"
  },
  "language_info": {
   "codemirror_mode": {
    "name": "ipython",
    "version": 3
   },
   "file_extension": ".py",
   "mimetype": "text/x-python",
   "name": "python",
   "nbconvert_exporter": "python",
   "pygments_lexer": "ipython3",
   "version": "3.6.4"
  }
 },
 "nbformat": 4,
 "nbformat_minor": 2
}
