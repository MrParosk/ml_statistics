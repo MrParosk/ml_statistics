{
 "cells": [
  {
   "cell_type": "markdown",
   "metadata": {},
   "source": [
    "# MCMC: Markov Chain Monte Carlo methods"
   ]
  },
  {
   "cell_type": "markdown",
   "metadata": {},
   "source": [
    "# Metropolis-Hastings algorithm\n",
    "\n",
    "One common method for solving mcmc is the Metropolis-Hastings algorithm."
   ]
  },
  {
   "cell_type": "markdown",
   "metadata": {},
   "source": [
    "Suppose that we wish to sample $X \\sim p(x)$ but cannot use:\n",
    "\n",
    "- direct simulation\n",
    "- inverse cdf method\n",
    "- accept-reject method\n",
    "\n",
    "but we can evaluate p(x) at least up until a proportional constant. This is common for posterior distributions, i.e.:\n",
    "\n",
    "$$p(\\theta | x) = \\frac{p(x | \\theta) p(\\theta)}{p(x)} = \\frac{p(x | \\theta) p(\\theta)}{Z}$$\n",
    "\n",
    "where Z is independent of $\\theta$ and the likelihood and prior is known. Then we can use mcmc."
   ]
  },
  {
   "cell_type": "markdown",
   "metadata": {},
   "source": [
    "# Algorithm\n",
    "\n",
    "Let:\n",
    "- 1: $p(\\theta|x)$ be the target distribution.\n",
    "- 2: $p(\\theta | x)$ be known up until a constant, i.e. $p(\\theta | x) = \\frac{q(\\theta | x)}{Z}$.\n",
    "- 3: $\\theta^t$ be the current draw from $p(\\theta|x)$.\n",
    "- 4: $g(\\theta| \\theta^t)$ be the proposed distribution.\n",
    "\n",
    "\n",
    "The Metropolis-Hastings algorithm performs the following steps:\n",
    "- 1: propose $\\theta^* \\sim g(\\theta | \\theta^t)$\n",
    "- 2: accept $\\theta^{(t+1)} = \\theta^*$ with probability $\\alpha = min(1, r)$ where\n",
    "\n",
    "$$r = \\frac{q(\\theta^*|x) g(\\theta^{(t)} | \\theta^*)}{q(\\theta^{(t)}|x) g(\\theta^* | \\theta^{(t)})} $$\n",
    "\n",
    "otherwise, set $θ^{(t+1)} = θ^{(t)}$.\n",
    "\n",
    "Repeat this process a given number of times."
   ]
  },
  {
   "cell_type": "markdown",
   "metadata": {},
   "source": [
    "There are two common proposals:\n",
    "\n",
    "- 1: Independent proposal, i.e. $g(\\theta | \\theta^{(t)}) = g(\\theta)$, (Independent Metropolis-Hastings).\n",
    "- 2: Symmetric proposal, i.e. $g(\\theta | \\theta^{(t)}) = g(\\theta^{(t)} | \\theta)$ for all $\\theta$, $\\theta^{(t)}$, (Random-walk Metropolis)."
   ]
  },
  {
   "cell_type": "markdown",
   "metadata": {},
   "source": [
    "# Example\n",
    "\n",
    "Assume that $\\theta | x \\sim N(0,1)$ and that $p$ is known until a constant (i.e. we have $q$).\n",
    "\n",
    "Let the proposed distribution be $\\theta^* | \\theta^{(t)} \\sim N(\\theta^{(t)}, 1)$ and $\\theta^{(0)} = 1$.\n",
    "\n",
    "We will now sample from $p$ using mcmc (with Random-walk Metropolis):"
   ]
  },
  {
   "cell_type": "code",
   "execution_count": 1,
   "metadata": {},
   "outputs": [
    {
     "data": {
      "image/png": "[encoded data removed]",
      "text/plain": [
       "<Figure size 432x288 with 2 Axes>"
      ]
     },
     "metadata": {},
     "output_type": "display_data"
    }
   ],
   "source": [
    "import matplotlib.pylab as plt\n",
    "import numpy as np\n",
    "%matplotlib inline\n",
    "\n",
    "def true_pdf(z):\n",
    "    # N(0,1) pdf\n",
    "    return np.exp(-z*z/2.)/np.sqrt(2*np.pi)\n",
    "\n",
    "def q(z):\n",
    "    # distribution known until a constant\n",
    "    return np.exp(-z*z/2.)\n",
    "\n",
    "n = 10000 # Number of samples to draw\n",
    "theta = 1.0 # Initial value\n",
    "\n",
    "samples = []\n",
    "samples.append(theta)\n",
    "\n",
    "for i in range(1, n):\n",
    "    theta_star = np.random.normal(theta, 1)\n",
    "    r = q(theta_star)/q(theta)\n",
    "    alpha = min([1.0, r]) # Acceptance probability\n",
    "    u = np.random.uniform(0, 1)\n",
    "    if u < alpha:\n",
    "        theta = theta_star\n",
    "        samples.append(theta)\n",
    "\n",
    "# Samples over the chains\n",
    "plt.subplot(211)\n",
    "plt.title('Metropolis-algorithm')\n",
    "plt.plot(samples)\n",
    "plt.subplot(212)\n",
    "\n",
    "# Plotting the true distribution versus the sampled one\n",
    "x = np.arange(-3,3,.1)\n",
    "y = true_pdf(x)\n",
    "plt.plot(x,y,'ro')\n",
    "plt.hist(samples, bins=30, density=True)\n",
    "plt.ylabel('Frequency')\n",
    "plt.xlabel('theta')\n",
    "plt.legend(('true pdf','samples'))\n",
    "plt.show()"
   ]
  },
  {
   "cell_type": "markdown",
   "metadata": {},
   "source": [
    "# Gibbs sampling\n",
    "\n",
    "Suppose that we wish to sample $\\theta_1, \\theta_2 \\sim p(\\theta_1, \\theta_2 | x)$ but cannot use:\n",
    "\n",
    "- direct simulation\n",
    "- inverse cdf method\n",
    "- accept-reject method\n",
    "- Metropolis-Hastings\n",
    "\n",
    "But we can sample from $p(\\theta_1 | \\theta_2 x)$ and $p(\\theta_2 | \\theta_1 x)$, then we can use Gibbs sampling.\n",
    "\n",
    "Beginning with an initial value $\\theta_1^{(0)} \\theta_2^{(0)}$, an iteration of the Gibbs sampler involve:\n",
    "\n",
    "- 1: sample $\\theta_1^{(t)} \\sim p(\\theta_1 |\\theta_2^{(t-1)}, x)$\n",
    "- 1: sample $\\theta_2^{(t)} \\sim p(\\theta_2 |\\theta_1^{(t)}, x)$\n",
    "\n",
    "Repeat this process a given number of times. By the Law of Large Numbers, $(\\theta_1^{(t)} | \\theta_2^{(t)})$ converges to samples from $p(\\theta|x)$.\n",
    "\n",
    "This can be extended to K-component:\n",
    "\n",
    "Suppose that $\\theta = (\\theta_1,...,\\theta_K)$, then begin with initial value $\\theta_1^{(0)},..., \\theta_K^{(0)}$, an iteration of the Gibbs sampler involve:\n",
    "\n",
    "- 1: sample $\\theta_1^{(t)} \\sim p(\\theta_1 |\\theta_2^{(t-1)},...,\\theta_K^{(t-1)} x)$.\n",
    "- 2: sample $\\theta_2^{(t)} \\sim p(\\theta_2 |\\theta_1^{(t)},...,\\theta_K^{(t-1)} x)$.\n",
    "- ...\n",
    "- K: sample $\\theta_K^{(t)} \\sim p(\\theta_K |\\theta_1^{(t)},...,\\theta_{K-1}^{(t)} x)$.\n",
    "\n",
    "Repeat this process a given number of times."
   ]
  },
  {
   "cell_type": "markdown",
   "metadata": {},
   "source": [
    "# Example\n",
    "\n",
    "Let $\\theta \\sim N(0, \\Sigma)$ where $\\Sigma = \\begin{bmatrix} 1 & \\rho \\\\ \\rho & 1 \\end{bmatrix}$.\n",
    "\n",
    "Then:\n",
    "\n",
    "$$\\theta_1 | \\theta_2 \\sim N(\\rho \\theta_2, 1 - \\rho^2)$$\n",
    "$$\\theta_2 | \\theta_1 \\sim N(\\rho \\theta_1, 1 - \\rho^2)$$\n",
    "\n",
    "Assume the initial values $(\\theta_1^{0}, \\theta_2^{0}) = (1, -1)$. Following the algorithm above gives:"
   ]
  },
  {
   "cell_type": "code",
   "execution_count": 3,
   "metadata": {},
   "outputs": [
    {
     "data": {
      "image/png": "[encoded data removed]",
      "text/plain": [
       "<Figure size 432x288 with 1 Axes>"
      ]
     },
     "metadata": {},
     "output_type": "display_data"
    }
   ],
   "source": [
    "# Initial value\n",
    "theta_1 = 1\n",
    "theta_2 = -1\n",
    "\n",
    "# Correlation between theta_1 and theta_2\n",
    "rho = 0.9\n",
    "\n",
    "n = 10000 # Number of samples to draw\n",
    "\n",
    "samples = np.empty([n, 2])\n",
    "\n",
    "for i in range(1, n):\n",
    "    theta_1 = np.random.normal(rho*theta_2, 1 - np.power(rho, 2))\n",
    "    theta_2 = np.random.normal(rho*theta_1, 1 - np.power(rho, 2))\n",
    "    samples[i,0] = theta_1\n",
    "    samples[i,1] = theta_2\n",
    "\n",
    "plt.scatter(samples[:,0], samples[:,1])\n",
    "plt.ylabel('theta_2')\n",
    "plt.xlabel('theta_1')\n",
    "plt.show()"
   ]
  },
  {
   "cell_type": "markdown",
   "metadata": {},
   "source": [
    "# Summary\n",
    "\n",
    "- Gibbs sampling breaks down a hard problem of sampling from a high dimensional distribution to a set of easier problems, i.e. sampling from low dimensional full conditional distributions.\n",
    "\n",
    "- If the low dimensional distributions have an unknown form, then alternative methods can be used, e.g. Metropolis-Hastings, etc."
   ]
  }
 ],
 "metadata": {
  "kernelspec": {
   "display_name": "Python 3",
   "language": "python",
   "name": "python3"
  },
  "language_info": {
   "codemirror_mode": {
    "name": "ipython",
    "version": 3
   },
   "file_extension": ".py",
   "mimetype": "text/x-python",
   "name": "python",
   "nbconvert_exporter": "python",
   "pygments_lexer": "ipython3",
   "version": "3.6.4"
  }
 },
 "nbformat": 4,
 "nbformat_minor": 2
}
