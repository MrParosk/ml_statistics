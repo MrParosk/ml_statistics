{
 "cells": [
  {
   "cell_type": "markdown",
   "metadata": {},
   "source": [
    "# Markov chains\n",
    "\n",
    "This notebook will cover some basic definitions and theorems necessary for MCMC (Markov Chain Monte Carlo)."
   ]
  },
  {
   "cell_type": "markdown",
   "metadata": {},
   "source": [
    "$\\boldsymbol{\\text{Deﬁnition 1}}$: A sequence of random variables $X_0,...,X_n$ is said to be a (ﬁnite state) Markov chain for some state space $S$ if for any $x_{n+1},x_n,...,x_0 \\in S$: \n",
    "\n",
    "$$P(X_{n+1} = x_{n+1} | X_0 = x_0,...,X_n = x_n) = P(X_{n+1} = x_{n+1}|X_n = x_n)$$\n",
    "\n",
    "where $X_0$ is called the initial state and its distribution is the initial distribution."
   ]
  },
  {
   "cell_type": "markdown",
   "metadata": {},
   "source": [
    "$\\boldsymbol{\\text{Deﬁnition 2}}$: A Markov chain is called stationary if:\n",
    " \n",
    "$$P(X_{n+1} = y | X_n = x)$$ \n",
    " \n",
    "is independent of $n$ for any $x, y$."
   ]
  },
  {
   "cell_type": "markdown",
   "metadata": {},
   "source": [
    "$\\boldsymbol{\\text{Deﬁnition 3}}$: Let$\\{ X_n \\}$ be a stationary Markov chain. The probabilities \n",
    "\n",
    "$$p_{ij} = P(X_{n+1} = j|X_n = i)$$\n",
    "\n",
    "are called the one-step transition probabilities. The associated matrix $P$ is called the transition probability matrix.\n",
    "\n",
    "This can be extended to n-step transition probabilities, i.e.\n",
    "\n",
    "$$p^{(n)}_{ij} = P(X_{n+m} = j|X_m = i)$$\n",
    "\n",
    "are called the n-step transition probabilities. The associated matrix $P^{(n)}$ is called the transition probability matrix. Note that both P are stochastic matrices."
   ]
  },
  {
   "cell_type": "markdown",
   "metadata": {},
   "source": [
    "$\\boldsymbol{\\text{Theorem (Chapman-Kolgomorov equation)}}$: Let $\\{ X_n \\}$ be a stationary Markov chain and $n,m \\geq 1$. Then: \n",
    "\n",
    "$$p^{m+n}_{ij} = P(X_{m+n} = j|X_0 = i) = \\sum_{k \\in S} p^m_{ik} p^n_{kj}$$"
   ]
  },
  {
   "cell_type": "markdown",
   "metadata": {},
   "source": [
    "$\\boldsymbol{\\text{Deﬁnition 5}}$: Let $\\{ X_n \\}$ be a stationary Markov chain with transition probability matrix $P$. It is called regular if there exists $n_0 > 0$ s.t.\n",
    "\n",
    "$$p^{n_0}_{ij} > 0 \\forall i,j \\in S$$"
   ]
  },
  {
   "cell_type": "markdown",
   "metadata": {},
   "source": [
    "$\\boldsymbol{\\text{Theorem (fundamental theorem for ﬁnite Markov chains)}}$: Let $\\{ X_n \\}$ be a regular, stationary Markov chain on a state space $S$ of $t$ elements. Then, there exists $\\pi_j$, $j = 1,2,...,t$ s.t.:\n",
    "\n",
    "- For any initial state $i$, $P(X_n = j|X_0 = i) \\rightarrow \\pi_j$, $j = 1,2,...,t$.\n",
    "- The row vector $\\pi = (\\pi_1, \\pi_2 ,..., \\pi_t)$ is the unique solution of the equations $\\pi P = \\pi$, $\\pi \\boldsymbol{1} = \\boldsymbol{1}$.\n",
    "- Any row of $P^r$ converges towards $\\pi$ when $r \\rightarrow \\infty$. \n",
    "\n",
    "$\\pi$ is called the stationary distribution."
   ]
  },
  {
   "cell_type": "markdown",
   "metadata": {},
   "source": [
    "# Summary\n",
    "\n",
    "- Stationary, regular Markov chains admit a stationary distribution.\n",
    "- This distribution can be obtained in different ways."
   ]
  }
 ],
 "metadata": {
  "kernelspec": {
   "display_name": "Python 3",
   "language": "python",
   "name": "python3"
  },
  "language_info": {
   "codemirror_mode": {
    "name": "ipython",
    "version": 3
   },
   "file_extension": ".py",
   "mimetype": "text/x-python",
   "name": "python",
   "nbconvert_exporter": "python",
   "pygments_lexer": "ipython3",
   "version": "3.6.4"
  }
 },
 "nbformat": 4,
 "nbformat_minor": 2
}
