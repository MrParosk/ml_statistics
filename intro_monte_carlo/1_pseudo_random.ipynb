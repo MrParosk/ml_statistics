{
 "cells": [
  {
   "cell_type": "markdown",
   "metadata": {},
   "source": [
    "# Generating pseudo random numbers "
   ]
  },
  {
   "cell_type": "code",
   "execution_count": 1,
   "metadata": {},
   "outputs": [],
   "source": [
    "import matplotlib.pyplot as plt\n",
    "import numpy as np"
   ]
  },
  {
   "cell_type": "markdown",
   "metadata": {},
   "source": [
    "# Linear congruential generator\n",
    "\n",
    "A linear congruential generator produces integers $r_i$ iteratively according to:\n",
    "\n",
    "$$r_{i+1} = ar_i +b(\\text{mod } d)$$\n",
    "\n",
    "- a is a positive integer ($a>0$) and are called the multiplier.\n",
    "- b is a negative integer ($b \\leq 0$) and are called the increment.\n",
    "- d is a positive integer ($d>0$) and are called the modolus of the generator.\n",
    "\n",
    "The generation process is started with a seed number $s = r_1 < d$.\n",
    "\n",
    "Linear congruential generators can shufﬂe integers from $0, 1, 2, ··· , d−1$ in ways that look (pseudo) random."
   ]
  },
  {
   "cell_type": "code",
   "execution_count": 2,
   "metadata": {},
   "outputs": [
    {
     "name": "stdout",
     "output_type": "stream",
     "text": [
      "[[11. 12.  6.  3.  8.  4.  2.  1.  7. 10.  5.  9. 11. 12.  6.  3.  8.  4.\n",
      "   2.  1.]]\n"
     ]
    }
   ],
   "source": [
    "# Parameters defined above\n",
    "d=13; a=20; b=0; s=11\n",
    "\n",
    "# Number of pseudo random numbers to generate\n",
    "m = 20\n",
    "\n",
    "r = np.zeros([1,m])\n",
    "r[0,0] = s # setting seed\n",
    "\n",
    "for i in range(0, m-1):\n",
    "    r[0,i+1] = (a * r[0,i] + b) % d # Generating random numbers\n",
    "\n",
    "print(r)"
   ]
  },
  {
   "cell_type": "markdown",
   "metadata": {},
   "source": [
    "The above generator runs through all 12 numbers before it repeats; i.e. a period of 12.\n",
    "\n",
    "Transform the above sequence to the interval (0,1):\n",
    "\n",
    "$$u_i = (r_i +0.5)/d$$ "
   ]
  },
  {
   "cell_type": "code",
   "execution_count": 3,
   "metadata": {},
   "outputs": [
    {
     "name": "stdout",
     "output_type": "stream",
     "text": [
      "[[0.88461538 0.96153846 0.5        0.26923077 0.65384615 0.34615385\n",
      "  0.19230769 0.11538462 0.57692308 0.80769231 0.42307692 0.73076923\n",
      "  0.88461538 0.96153846 0.5        0.26923077 0.65384615 0.34615385\n",
      "  0.19230769 0.11538462]]\n"
     ]
    }
   ],
   "source": [
    "u = (r + 0.5)/d\n",
    "print(u)"
   ]
  },
  {
   "cell_type": "markdown",
   "metadata": {},
   "source": [
    "Properties of good generators:\n",
    "\n",
    "- Large modulus and large period (i.e. the sequence doesn't repeats itself \"often\").\n",
    "- Uniform distribution (histogram of values consistent with U(0,1)).\n",
    "- Independent structure (pairwise independence – plot of the pairs ($u_i$,$u_{i+1}$) should ﬁll the unit square)."
   ]
  },
  {
   "cell_type": "markdown",
   "metadata": {},
   "source": [
    "# Transformations of uniform random variables\n",
    "\n",
    "Two common methods for transforming a unifrom random variable to another distribution:\n",
    "\n",
    "- Quantile transformation\n",
    "- Accept-reject\n",
    "\n",
    "Uniform random variable are simulated from a \"good\" generator (see above)."
   ]
  },
  {
   "cell_type": "markdown",
   "metadata": {},
   "source": [
    "# Quantile transformation \n",
    "\n",
    "When the quantile function $F^{−1}$ has a known formula, one can simulate a value of $X \\sim F$: \n",
    "\n",
    "- Simulate a value of $U \\sim U[0,1]$ \n",
    "- Use $X = F^{−1}(U)$"
   ]
  },
  {
   "cell_type": "markdown",
   "metadata": {},
   "source": [
    "# Accept-reject \n",
    "\n",
    "Suppose that $X$ has density $f$, from which one can not directly simulate, and $F^{−1}$ has no known formula. Let us further assume that we can construct another density $g(x)$ from which it is easy to simulate.\n",
    "\n",
    "Then, we can simulate $X$ as follows: \n",
    "- Find a density function $g$ and constant $c$ s.t: $\\frac{f(x)}{g(x)} \\leq c $, $\\forall x$ \n",
    "- Generate $U \\sim U[0,1]$ \n",
    "- Generate $X \\sim G$\n",
    "- Keep $X$ if $U \\leq \\frac{f(X)}{cg(X)}$ \n",
    "- Repeat till required number of samples"
   ]
  },
  {
   "cell_type": "markdown",
   "metadata": {},
   "source": [
    "# Simulating from common distributions\n",
    "\n",
    "- Bernoulli: To generate $X \\sim \\text{Ber}(p)$, generate $U  \\sim U[0,1]$ and set $X = I_{U>1−p}$ \n",
    "- Binomial: To generate $X \\sim \\text{Bin}(n,p)$, generate $X_1,...,X_n \\sim \\text{Ber}(p)$ and set $X= \\sum_i X_i$\n",
    "- Standard exponential: To generate $X \\sim Exp(1)$, generate $U \\sim U[0,1]$ and set $X = −\\log(U)$ \n",
    "- Standard normal: To generate $X \\sim N(0,1)$, use the accept-reject method with $g(x) = \\frac{1}{2}\\exp(−|x|)$ and $c=\\sqrt{\\frac{2e}{\\pi}}$"
   ]
  },
  {
   "cell_type": "markdown",
   "metadata": {},
   "source": [
    "# Example "
   ]
  },
  {
   "cell_type": "code",
   "execution_count": 4,
   "metadata": {},
   "outputs": [
    {
     "data": {
      "image/png": "[encoded data removed]",
      "text/plain": [
       "<Figure size 432x288 with 1 Axes>"
      ]
     },
     "metadata": {},
     "output_type": "display_data"
    }
   ],
   "source": [
    "# Example of the quantile transformation method for the standard exponential\n",
    "size=10000\n",
    "u = np.random.uniform(low=0.0, high=1.0, size=size) # Generating samples from U[0,1]\n",
    "x = -np.log(u) # Transforming to exp(1)\n",
    "plt.hist(x, bins='auto')\n",
    "plt.title(\"exp(1)\")\n",
    "plt.show()"
   ]
  },
  {
   "cell_type": "code",
   "execution_count": 5,
   "metadata": {},
   "outputs": [
    {
     "data": {
      "image/png": "[encoded data removed]",
      "text/plain": [
       "<Figure size 432x288 with 1 Axes>"
      ]
     },
     "metadata": {},
     "output_type": "display_data"
    }
   ],
   "source": [
    "# Example of the accept-reject method for the standard normal\n",
    "def gaussian(x):\n",
    "    # Gaussian pdf\n",
    "    return 1/np.sqrt(2*np.pi)*np.exp(-(x**2)/2)\n",
    "\n",
    "def laplace(x):\n",
    "    # Laplace pdf, i.e. 1/2*exp(-|x|)\n",
    "    return 0.5*np.exp(-np.abs(x))\n",
    "\n",
    "c = np.sqrt((2*np.e)/np.pi)\n",
    "size = 10000\n",
    "\n",
    "u = np.random.uniform(low=0.0, high=1.0, size=size) # Generating samples from U[0,1]\n",
    "x = np.random.laplace(loc=0.0, scale=1.0, size=size) # Generating samples from Laplacian\n",
    "\n",
    "x = x[u <= gaussian(x)/(laplace(x)*c)]\n",
    "\n",
    "plt.hist(x, bins='auto')\n",
    "plt.title(\"N(0,1)\")\n",
    "plt.show()"
   ]
  },
  {
   "cell_type": "markdown",
   "metadata": {},
   "source": [
    "# Summary\n",
    "\n",
    "- Generation of random integers with linear congruential generators\n",
    "- From random integers to $U[0,1]$\n",
    "- From $U[0,1]$ to common distributions via quantile transformation or accept-reject"
   ]
  }
 ],
 "metadata": {
  "kernelspec": {
   "display_name": "Python 3",
   "language": "python",
   "name": "python3"
  },
  "language_info": {
   "codemirror_mode": {
    "name": "ipython",
    "version": 3
   },
   "file_extension": ".py",
   "mimetype": "text/x-python",
   "name": "python",
   "nbconvert_exporter": "python",
   "pygments_lexer": "ipython3",
   "version": "3.6.4"
  }
 },
 "nbformat": 4,
 "nbformat_minor": 2
}
