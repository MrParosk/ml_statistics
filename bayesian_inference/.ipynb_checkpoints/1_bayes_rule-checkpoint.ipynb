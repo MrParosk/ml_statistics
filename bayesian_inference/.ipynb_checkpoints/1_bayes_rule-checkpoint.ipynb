{
 "cells": [
  {
   "cell_type": "markdown",
   "metadata": {},
   "source": [
    "# Bayes rule\n",
    "\n",
    "in Bayes statistics we \"put distributions on everything\"."
   ]
  },
  {
   "cell_type": "markdown",
   "metadata": {},
   "source": [
    "This notebook will be based on two rules:\n",
    "\n",
    "- 1: Sum rule - $p(x) = \\sum_y p(x,y)$ for discrete random variables and $p(x) = \\int p(x,y) dy$ for continuous ones.\n",
    "- 2: Product rule - $p(x,y) = p(x | y) p(y)$.\n",
    "\n",
    "One can see that the product rule is symmetric w.r.t. x and y which gives:\n",
    "\n",
    "$$p(x | y) p(y) = p(y | x) p(x) \\implies p(y | x) = \\frac{p(x | y) p(y)}{p(x)}  $$\n",
    "\n",
    "i.e. bayes rule. Here:\n",
    "\n",
    "- $p(x)$ is the evidence distributions.\n",
    "- $p(y)$ is the prior distributions, i.e. one's beliefs about the distributions before data is taken into account.\n",
    "- $p(x | y)$ is the likelihood distributions.\n",
    "- $p(y | x)$ is the posterior distributions, i.e.one's beliefs about the distributions after data is taken into account."
   ]
  },
  {
   "cell_type": "markdown",
   "metadata": {},
   "source": [
    "Suppose that we have a model $m$ which has some parameters $\\theta$ and data $D$, then:\n",
    "\n",
    "$$p(\\theta | D, m) = \\frac{p(D | \\theta, m) p(\\theta | D)}{p(D | m)} $$\n",
    "\n",
    "this follows from the sum and product rule by using $p(D, \\theta, m ) = p(D | \\theta, m) p(\\theta, m)$ and $p(D, \\theta, m ) = p(\\theta | D, m) p(D,m)$."
   ]
  },
  {
   "cell_type": "markdown",
   "metadata": {},
   "source": [
    "# Posterior prediction distribution\n",
    "\n",
    "Given a new data point $D^*$ we get the posterior prediction distribution (using the sum and product rule as above):\n",
    "\n",
    "$$p(D^* | D, m) = \\int p(D^* | \\theta, D, m) p(\\theta | D, m) d\\theta  $$"
   ]
  },
  {
   "cell_type": "markdown",
   "metadata": {},
   "source": [
    "# Model comparison\n",
    "\n",
    "If we wish to compare models, we can do it by:\n",
    "\n",
    "$$p(m | D) = \\frac{p(D | m) p(m)}{p(D)} $$\n",
    "\n",
    "where:\n",
    "\n",
    "$$p(D | m) = \\int p(D | \\theta, m) p(\\theta | m) d\\theta$$"
   ]
  }
 ],
 "metadata": {
  "kernelspec": {
   "display_name": "Python 3",
   "language": "python",
   "name": "python3"
  },
  "language_info": {
   "codemirror_mode": {
    "name": "ipython",
    "version": 3
   },
   "file_extension": ".py",
   "mimetype": "text/x-python",
   "name": "python",
   "nbconvert_exporter": "python",
   "pygments_lexer": "ipython3",
   "version": "3.6.4"
  }
 },
 "nbformat": 4,
 "nbformat_minor": 2
}
